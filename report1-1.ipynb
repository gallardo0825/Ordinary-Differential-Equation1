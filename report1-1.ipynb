{
 "cells": [
  {
   "cell_type": "code",
   "execution_count": 19,
   "id": "f72c8234",
   "metadata": {},
   "outputs": [
    {
     "name": "stdout",
     "output_type": "stream",
     "text": [
      "59.89004999579343\n"
     ]
    }
   ],
   "source": [
    "import math \n",
    "import numpy as np\n",
    "%matplotlib inline\n",
    "import matplotlib.pyplot as plt\n",
    "\n",
    "def f(x,t):\n",
    "    return (x+np.sqrt(x**2+t**2))/t\n",
    "t0= 1\n",
    "t_end = 11\n",
    "nstep = 1000\n",
    "h = (t_end-t0)/nstep\n",
    "t = np.arange(t0,t_end,h)\n",
    "x = np.zeros(nstep)\n",
    "\n",
    "#4段4位\n",
    "for i in range(nstep-1):\n",
    "    k1 = h*f(x[i],t[i])\n",
    "    k2 = h*f(x[i]+0.5*k1, t[i]+0.5*h)\n",
    "    k3 = h*f (x[i]+0.5*k2, t[i]+0.5*h)\n",
    "    k4 = h*f(x[i]+k3, t[i]+h)\n",
    "    x[i+1] = x[i]+(k1+2*k2+2*k3+k4)/6\n",
    "\n",
    "print(x[-1])"
   ]
  },
  {
   "cell_type": "code",
   "execution_count": 11,
   "id": "99c69909",
   "metadata": {},
   "outputs": [
    {
     "name": "stdout",
     "output_type": "stream",
     "text": [
      "59.4703427431176\n"
     ]
    }
   ],
   "source": [
    "import math \n",
    "import numpy as np\n",
    "%matplotlib inline\n",
    "import matplotlib.pyplot as plt\n",
    "\n",
    "def f(x,t):\n",
    "    return (x+np.sqrt(x**2+t**2))/t\n",
    "t0= 1\n",
    "t_end = 11\n",
    "nstep = 1000\n",
    "h = (t_end-t0)/nstep\n",
    "t = np.arange(t0,t_end,h)\n",
    "x = np.zeros(nstep)\n",
    "\n",
    "#1段1位Euler法\n",
    "for i in range(nstep-1):\n",
    "    k1 = h*f(x[i],t[i])\n",
    "    x[i+1] = x[i]+k1\n",
    "\n",
    "print(x[-1])"
   ]
  },
  {
   "cell_type": "code",
   "execution_count": 12,
   "id": "cdceda3f",
   "metadata": {},
   "outputs": [
    {
     "name": "stdout",
     "output_type": "stream",
     "text": [
      "59.88930436018377\n"
     ]
    }
   ],
   "source": [
    "import math \n",
    "import numpy as np\n",
    "%matplotlib inline\n",
    "import matplotlib.pyplot as plt\n",
    "\n",
    "def f(x,t):\n",
    "    return (x+np.sqrt(x**2+t**2))/t\n",
    "t0= 1\n",
    "t_end = 11\n",
    "nstep = 1000\n",
    "h = (t_end-t0)/nstep\n",
    "t = np.arange(t0,t_end,h)\n",
    "x = np.zeros(nstep)\n",
    "\n",
    "#2段2位改良Euler法\n",
    "for i in range(nstep-1):\n",
    "    k1 = h*f(x[i],t[i])\n",
    "    k2 = h*f(x[i]+0.5*k1, t[i]+0.5*h)\n",
    "    x[i+1] = x[i]+k2\n",
    "\n",
    "print(x[-1])"
   ]
  },
  {
   "cell_type": "code",
   "execution_count": 14,
   "id": "655addf8",
   "metadata": {},
   "outputs": [
    {
     "name": "stdout",
     "output_type": "stream",
     "text": [
      "59.888560367530175\n"
     ]
    }
   ],
   "source": [
    "import math \n",
    "import numpy as np\n",
    "%matplotlib inline\n",
    "import matplotlib.pyplot as plt\n",
    "\n",
    "def f(x,t):\n",
    "    return (x+np.sqrt(x**2+t**2))/t\n",
    "t0= 1\n",
    "t_end = 11\n",
    "nstep = 1000\n",
    "h = (t_end-t0)/nstep\n",
    "t = np.arange(t0,t_end,h)\n",
    "x = np.zeros(nstep)\n",
    "\n",
    "#2段2位改良Heun法\n",
    "for i in range(nstep-1):\n",
    "    k1 = h*f(x[i],t[i])\n",
    "    k2 = h*f(x[i]+k1, t[i]+h)\n",
    "    x[i+1] = x[i]+0.5*(k1+k2)\n",
    "\n",
    "print(x[-1])"
   ]
  }
 ],
 "metadata": {
  "kernelspec": {
   "display_name": "Python 3",
   "language": "python",
   "name": "python3"
  },
  "language_info": {
   "codemirror_mode": {
    "name": "ipython",
    "version": 3
   },
   "file_extension": ".py",
   "mimetype": "text/x-python",
   "name": "python",
   "nbconvert_exporter": "python",
   "pygments_lexer": "ipython3",
   "version": "3.8.8"
  }
 },
 "nbformat": 4,
 "nbformat_minor": 5
}
