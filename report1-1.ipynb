{
 "cells": [
  {
   "cell_type": "code",
   "execution_count": 20,
   "id": "f72c8234",
   "metadata": {},
   "outputs": [
    {
     "name": "stdout",
     "output_type": "stream",
     "text": [
      "60.000000000015106\n"
     ]
    }
   ],
   "source": [
    "import math \n",
    "import numpy as np\n",
    "%matplotlib inline\n",
    "import matplotlib.pyplot as plt\n",
    "\n",
    "def f(x,t):\n",
    "    return (x+np.sqrt(x**2+t**2))/t\n",
    "\n",
    "t = 11\n",
    "h = 0.001\n",
    "tpoint = np.arange(1,t+h,h)\n",
    "xpoint = []\n",
    "x = 0\n",
    "\n",
    "#4段4位\n",
    "for t in tpoint:\n",
    "    xpoint.append(x)\n",
    "    k1 = h*f(x,t)\n",
    "    k2 = h*f(x+0.5*k1, t+0.5*h)\n",
    "    k3 = h*f (x+0.5*k2, t+0.5*h)\n",
    "    k4 = h*f(x+k3, t+h)\n",
    "    x += (k1+2*k2+2*k3+k4)/6\n",
    "\n",
    "print(xpoint[-1])"
   ]
  },
  {
   "cell_type": "code",
   "execution_count": 21,
   "id": "99c69909",
   "metadata": {},
   "outputs": [
    {
     "name": "stdout",
     "output_type": "stream",
     "text": [
      "59.957653960433085\n"
     ]
    }
   ],
   "source": [
    "import math \n",
    "import numpy as np\n",
    "%matplotlib inline\n",
    "import matplotlib.pyplot as plt\n",
    "\n",
    "def f(x,t):\n",
    "    return (x+np.sqrt(x**2+t**2))/t\n",
    "\n",
    "t = 11\n",
    "h = 0.001\n",
    "tpoint = np.arange(1,t+h,h)\n",
    "xpoint = []\n",
    "x = 0\n",
    "\n",
    "#1段1位Euler法\n",
    "for t in tpoint:\n",
    "    xpoint.append(x)\n",
    "    k1 = h*f(x,t)\n",
    "    x += k1\n",
    "\n",
    "print(xpoint[-1])"
   ]
  },
  {
   "cell_type": "code",
   "execution_count": 2,
   "id": "cdceda3f",
   "metadata": {},
   "outputs": [
    {
     "name": "stdout",
     "output_type": "stream",
     "text": [
      "59.99925299122106\n"
     ]
    }
   ],
   "source": [
    "import math \n",
    "import numpy as np\n",
    "%matplotlib inline\n",
    "import matplotlib.pyplot as plt\n",
    "\n",
    "def f(x,t):\n",
    "    return (x+np.sqrt(x**2+t**2))/t\n",
    "\n",
    "t = 11\n",
    "h = 0.01\n",
    "tpoint = np.arange(1,t+h,h)\n",
    "xpoint = []\n",
    "x = 0\n",
    "#2段2位改良Euler\n",
    "for t in tpoint:\n",
    "    xpoint.append(x)\n",
    "    k1 = h*f(x,t)\n",
    "    k2 = h*f(x+0.5*k1, t+0.5*h)\n",
    "    x += k2\n",
    "\n",
    "print(xpoint[-1])"
   ]
  },
  {
   "cell_type": "code",
   "execution_count": 1,
   "id": "655addf8",
   "metadata": {},
   "outputs": [
    {
     "name": "stdout",
     "output_type": "stream",
     "text": [
      "59.99850763260005\n"
     ]
    }
   ],
   "source": [
    "import math \n",
    "import numpy as np\n",
    "%matplotlib inline\n",
    "import matplotlib.pyplot as plt\n",
    "\n",
    "def f(x,t):\n",
    "    return (x+np.sqrt(x**2+t**2))/t\n",
    "\n",
    "t = 11\n",
    "h = 0.01\n",
    "tpoint = np.arange(1,t+h,h)\n",
    "xpoint = []\n",
    "x = 0\n",
    "\n",
    "#2段2位改良Heun\n",
    "for t in tpoint:\n",
    "    xpoint.append(x)\n",
    "    k1 = h*f(x,t)\n",
    "    k2 = h*f(x+k1, t+h)\n",
    "    x += 0.5*(k1+k2)\n",
    "    \n",
    "print(xpoint[-1])"
   ]
  }
 ],
 "metadata": {
  "kernelspec": {
   "display_name": "Python 3",
   "language": "python",
   "name": "python3"
  },
  "language_info": {
   "codemirror_mode": {
    "name": "ipython",
    "version": 3
   },
   "file_extension": ".py",
   "mimetype": "text/x-python",
   "name": "python",
   "nbconvert_exporter": "python",
   "pygments_lexer": "ipython3",
   "version": "3.8.8"
  }
 },
 "nbformat": 4,
 "nbformat_minor": 5
}
